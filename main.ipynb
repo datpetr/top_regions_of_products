{
 "cells": [
  {
   "source": [
    "# What's in an Avocado Toast: A Supply Chain Analysis\n",
    "\n",
    "You're in London, making an avocado toast, a quick-to-make dish that has soared in popularity on breakfast menus since the 2010s. A simple smashed avocado toast can be made with five ingredients: one ripe avocado, half a lemon, a big pinch of salt flakes, two slices of sourdough bread and a good drizzle of extra virgin olive oil. It's no small feat that most of these ingredients are readily available in grocery stores. \n",
    "\n",
    "In this project, you'll conduct a supply chain analysis of three of these ingredients used in an avocado toast, utilizing the Open Food Facts database. This database contains extensive, openly-sourced information on various foods, including their origins. Through this analysis, you will gain an in-depth understanding of the complex supply chain involved in producing a single dish.\n",
    "\n",
    "Three pairs of files are provided in the data folder:\n",
    "- A CSV file for each ingredient, such as `avocado.csv`, with data about each food item and countries of origin\n",
    "- A TXT file for each ingredient, such as `relevant_avocado_categories`, containing only the category tags of interest for that food.\n",
    "\n",
    "Here are some other key points about these files:\n",
    "- Some of the rows of data in each of the three CSV files do not contain relevant data for your investigation. In each dataset, you will need to filter out rows with irrelevant data, based on values in the `categories_tags` column. Examples of categories are, fruits, vegetables, and fruit-based oils. Filter the DataFrame to include only rows where `categories_tags` contains one of the tags in the relevant categories for that ingredient.\n",
    "- Each row of data usually has multiple categories tags in the `categories_tags` column.\n",
    "- There is a column in each CSV file called `origins_tags` with strings for country of origin of that item.\n",
    "\n",
    "After completing this project, you'll be armed with a list of ingredients and their countries of origin, and be well-positioned to launch into other analyses that explore how long, on average, these ingredients spend at sea.\n",
    "![](avocado_wallpaper.jpeg)"
   ],
   "metadata": {},
   "id": "32ec92a0-c21a-45b8-ac63-9f9c698a1291",
   "cell_type": "markdown"
  },
  {
   "source": [
    "import pandas as pd\n",
    "\n",
    "# Begin coding here ..."
   ],
   "metadata": {
    "executionCancelledAt": null,
    "executionTime": 12,
    "lastExecutedAt": 1706186257390,
    "lastScheduledRunId": null,
    "lastSuccessfullyExecutedCode": "import pandas as pd\n\n# Begin coding here ...",
    "ExecuteTime": {
     "end_time": "2024-01-26T12:27:20.730167371Z",
     "start_time": "2024-01-26T12:27:20.375560477Z"
    }
   },
   "id": "95870cf7-b34c-4589-b9bc-da4a45f48a09",
   "cell_type": "code",
   "execution_count": 1,
   "outputs": []
  },
  {
   "source": [
    "let's import our data"
   ],
   "metadata": {},
   "cell_type": "markdown",
   "id": "f3ad1ddc-52b2-472d-89e2-030429996858"
  },
  {
   "source": [
    "df = pd.read_csv('data/avocado.csv', sep='\\t')"
   ],
   "metadata": {
    "executionCancelledAt": null,
    "executionTime": 49,
    "lastExecutedAt": 1706186409977,
    "lastScheduledRunId": null,
    "lastSuccessfullyExecutedCode": "import pandas as pd\n\ndf = pd.read_csv('data/avocado.csv', sep='\\t')",
    "outputsMetadata": {
     "0": {
      "height": 616,
      "type": "stream"
     }
    },
    "ExecuteTime": {
     "end_time": "2024-01-26T12:27:20.749979778Z",
     "start_time": "2024-01-26T12:27:20.729334615Z"
    }
   },
   "cell_type": "code",
   "id": "a00190cd-eb05-476a-9052-d6cb0c232b2d",
   "outputs": [],
   "execution_count": 2
  },
  {
   "source": [
    "we want to understand the structure of out data "
   ],
   "metadata": {},
   "cell_type": "markdown",
   "id": "5f948199-7da6-4294-972f-b73032cf8d17"
  },
  {
   "source": [
    "df.head()"
   ],
   "metadata": {
    "executionCancelledAt": null,
    "executionTime": 120,
    "lastExecutedAt": 1706186413609,
    "lastScheduledRunId": null,
    "lastSuccessfullyExecutedCode": "df.head()",
    "outputsMetadata": {
     "0": {
      "height": 115,
      "type": "dataFrame"
     }
    },
    "ExecuteTime": {
     "end_time": "2024-01-26T12:27:20.772450100Z",
     "start_time": "2024-01-26T12:27:20.748620026Z"
    }
   },
   "cell_type": "code",
   "id": "66176f4e-4e24-4c3e-a0ca-bf5303fe81ca",
   "outputs": [
    {
     "data": {
      "text/plain": "            code  lc product_name_de product_name_el  \\\n0  0059749979702  fr             NaN             NaN   \n1  7610095131409  en             NaN             NaN   \n2  4005514005578  en             NaN             NaN   \n3  0879890002513  en             NaN             NaN   \n4  0223086613685  en             NaN             NaN   \n\n                     product_name_en product_name_es product_name_fi  \\\n0                                NaN             NaN             NaN   \n1                                NaN             NaN             NaN   \n2  Gelbe Linse Avocado Brotaufstrich             NaN             NaN   \n3           Avocado toast chili lime             NaN             NaN   \n4                            Avocado             NaN             NaN   \n\n         product_name_fr product_name_id product_name_it  ...  \\\n0  Naturalia Avocado Oil             NaN             NaN  ...   \n1     Avocado Bowl chips             NaN             NaN  ...   \n2                    NaN             NaN             NaN  ...   \n3                    NaN             NaN             NaN  ...   \n4                    NaN             NaN             NaN  ...   \n\n  off:ecoscore_data.adjustments.packaging.non_recyclable_and_non_biodegradable_materials  \\\n0                                                1.0                                       \n1                                                1.0                                       \n2                                                1.0                                       \n3                                                1.0                                       \n4                                                1.0                                       \n\n  off:ecoscore_data.adjustments.production_system.value  \\\n0                                                0.0      \n1                                                0.0      \n2                                               15.0      \n3                                                0.0      \n4                                                0.0      \n\n  off:ecoscore_data.adjustments.threatened_species.value  \\\n0                                                NaN       \n1                                                NaN       \n2                                                NaN       \n3                                                NaN       \n4                                                NaN       \n\n  sources_fields:org-database-usda:available_date  \\\n0                                             NaN   \n1                                             NaN   \n2                                             NaN   \n3                                             NaN   \n4                                             NaN   \n\n  sources_fields:org-database-usda:fdc_category  \\\n0                                           NaN   \n1                                           NaN   \n2                                           NaN   \n3                                           NaN   \n4                                           NaN   \n\n  sources_fields:org-database-usda:fdc_data_source  \\\n0                                              NaN   \n1                                              NaN   \n2                                              NaN   \n3                                              NaN   \n4                                              NaN   \n\n  sources_fields:org-database-usda:fdc_id  \\\n0                                     NaN   \n1                                     NaN   \n2                                     NaN   \n3                                     NaN   \n4                                     NaN   \n\n  sources_fields:org-database-usda:modified_date  \\\n0                                            NaN   \n1                                            NaN   \n2                                            NaN   \n3                                            NaN   \n4                                            NaN   \n\n  sources_fields:org-database-usda:publication_date  \\\n0                                               NaN   \n1                                               NaN   \n2                                               NaN   \n3                                               NaN   \n4                                               NaN   \n\n                                      data_sources  \n0                                 App - yuka, Apps  \n1  App - Yuka, Apps, Producers, Producer - zweifel  \n2   App - yuka, Apps, App - smoothie-openfoodfacts  \n3                   App - Yuka, Apps, App - InFood  \n4                                 App - Yuka, Apps  \n\n[5 rows x 184 columns]",
      "text/html": "<div>\n<style scoped>\n    .dataframe tbody tr th:only-of-type {\n        vertical-align: middle;\n    }\n\n    .dataframe tbody tr th {\n        vertical-align: top;\n    }\n\n    .dataframe thead th {\n        text-align: right;\n    }\n</style>\n<table border=\"1\" class=\"dataframe\">\n  <thead>\n    <tr style=\"text-align: right;\">\n      <th></th>\n      <th>code</th>\n      <th>lc</th>\n      <th>product_name_de</th>\n      <th>product_name_el</th>\n      <th>product_name_en</th>\n      <th>product_name_es</th>\n      <th>product_name_fi</th>\n      <th>product_name_fr</th>\n      <th>product_name_id</th>\n      <th>product_name_it</th>\n      <th>...</th>\n      <th>off:ecoscore_data.adjustments.packaging.non_recyclable_and_non_biodegradable_materials</th>\n      <th>off:ecoscore_data.adjustments.production_system.value</th>\n      <th>off:ecoscore_data.adjustments.threatened_species.value</th>\n      <th>sources_fields:org-database-usda:available_date</th>\n      <th>sources_fields:org-database-usda:fdc_category</th>\n      <th>sources_fields:org-database-usda:fdc_data_source</th>\n      <th>sources_fields:org-database-usda:fdc_id</th>\n      <th>sources_fields:org-database-usda:modified_date</th>\n      <th>sources_fields:org-database-usda:publication_date</th>\n      <th>data_sources</th>\n    </tr>\n  </thead>\n  <tbody>\n    <tr>\n      <th>0</th>\n      <td>0059749979702</td>\n      <td>fr</td>\n      <td>NaN</td>\n      <td>NaN</td>\n      <td>NaN</td>\n      <td>NaN</td>\n      <td>NaN</td>\n      <td>Naturalia Avocado Oil</td>\n      <td>NaN</td>\n      <td>NaN</td>\n      <td>...</td>\n      <td>1.0</td>\n      <td>0.0</td>\n      <td>NaN</td>\n      <td>NaN</td>\n      <td>NaN</td>\n      <td>NaN</td>\n      <td>NaN</td>\n      <td>NaN</td>\n      <td>NaN</td>\n      <td>App - yuka, Apps</td>\n    </tr>\n    <tr>\n      <th>1</th>\n      <td>7610095131409</td>\n      <td>en</td>\n      <td>NaN</td>\n      <td>NaN</td>\n      <td>NaN</td>\n      <td>NaN</td>\n      <td>NaN</td>\n      <td>Avocado Bowl chips</td>\n      <td>NaN</td>\n      <td>NaN</td>\n      <td>...</td>\n      <td>1.0</td>\n      <td>0.0</td>\n      <td>NaN</td>\n      <td>NaN</td>\n      <td>NaN</td>\n      <td>NaN</td>\n      <td>NaN</td>\n      <td>NaN</td>\n      <td>NaN</td>\n      <td>App - Yuka, Apps, Producers, Producer - zweifel</td>\n    </tr>\n    <tr>\n      <th>2</th>\n      <td>4005514005578</td>\n      <td>en</td>\n      <td>NaN</td>\n      <td>NaN</td>\n      <td>Gelbe Linse Avocado Brotaufstrich</td>\n      <td>NaN</td>\n      <td>NaN</td>\n      <td>NaN</td>\n      <td>NaN</td>\n      <td>NaN</td>\n      <td>...</td>\n      <td>1.0</td>\n      <td>15.0</td>\n      <td>NaN</td>\n      <td>NaN</td>\n      <td>NaN</td>\n      <td>NaN</td>\n      <td>NaN</td>\n      <td>NaN</td>\n      <td>NaN</td>\n      <td>App - yuka, Apps, App - smoothie-openfoodfacts</td>\n    </tr>\n    <tr>\n      <th>3</th>\n      <td>0879890002513</td>\n      <td>en</td>\n      <td>NaN</td>\n      <td>NaN</td>\n      <td>Avocado toast chili lime</td>\n      <td>NaN</td>\n      <td>NaN</td>\n      <td>NaN</td>\n      <td>NaN</td>\n      <td>NaN</td>\n      <td>...</td>\n      <td>1.0</td>\n      <td>0.0</td>\n      <td>NaN</td>\n      <td>NaN</td>\n      <td>NaN</td>\n      <td>NaN</td>\n      <td>NaN</td>\n      <td>NaN</td>\n      <td>NaN</td>\n      <td>App - Yuka, Apps, App - InFood</td>\n    </tr>\n    <tr>\n      <th>4</th>\n      <td>0223086613685</td>\n      <td>en</td>\n      <td>NaN</td>\n      <td>NaN</td>\n      <td>Avocado</td>\n      <td>NaN</td>\n      <td>NaN</td>\n      <td>NaN</td>\n      <td>NaN</td>\n      <td>NaN</td>\n      <td>...</td>\n      <td>1.0</td>\n      <td>0.0</td>\n      <td>NaN</td>\n      <td>NaN</td>\n      <td>NaN</td>\n      <td>NaN</td>\n      <td>NaN</td>\n      <td>NaN</td>\n      <td>NaN</td>\n      <td>App - Yuka, Apps</td>\n    </tr>\n  </tbody>\n</table>\n<p>5 rows × 184 columns</p>\n</div>"
     },
     "execution_count": 3,
     "metadata": {},
     "output_type": "execute_result"
    }
   ],
   "execution_count": 3
  },
  {
   "source": [
    "Creating names of variables"
   ],
   "metadata": {},
   "cell_type": "markdown",
   "id": "9ccd5b55-b7e6-4739-9852-3d42794d8346"
  },
  {
   "source": [
    "relevant_columns = ['code', 'lc', 'product_name_en', 'quantity', 'serving_size', 'packaging_tags', 'brands', 'brands_tags', 'categories_tags', 'labels_tags', 'countries', 'countries_tags', 'origins','origins_tags']\n",
    "\n",
    "df = df[relevant_columns]\n",
    "\n",
    "df.head()"
   ],
   "metadata": {
    "executionCancelledAt": null,
    "executionTime": 888,
    "lastExecutedAt": 1706186526911,
    "lastScheduledRunId": null,
    "lastSuccessfullyExecutedCode": "relevant_columns = ['code', 'lc', 'product_name_en', 'quantity', 'serving_size', 'packaging_tags', 'brands', 'brands_tags', 'categories_tags', 'labels_tags', 'countries', 'countries_tags', 'origins','origins_tags']\n\ndf = df[relevant_columns]\n\ndf.head()",
    "visualizeDataframe": false,
    "chartConfig": {
     "bar": {
      "hasRoundedCorners": true,
      "stacked": false
     },
     "type": "bar",
     "version": "v1"
    },
    "outputsMetadata": {
     "0": {
      "height": 212,
      "type": "dataFrame"
     }
    },
    "ExecuteTime": {
     "end_time": "2024-01-26T12:27:20.794766595Z",
     "start_time": "2024-01-26T12:27:20.774099069Z"
    }
   },
   "cell_type": "code",
   "id": "36b8bb7e-bfbd-41ad-8b8a-f0378145c008",
   "outputs": [
    {
     "data": {
      "text/plain": "            code  lc                    product_name_en quantity serving_size  \\\n0  0059749979702  fr                                NaN      NaN          NaN   \n1  7610095131409  en                                NaN      NaN          NaN   \n2  4005514005578  en  Gelbe Linse Avocado Brotaufstrich      NaN          NaN   \n3  0879890002513  en           Avocado toast chili lime      NaN          NaN   \n4  0223086613685  en                            Avocado      NaN          NaN   \n\n  packaging_tags     brands brands_tags  \\\n0            NaN  Naturalia   naturalia   \n1            NaN    Zweifel     zweifel   \n2            NaN     Tartex      tartex   \n3            NaN        NaN         NaN   \n4            NaN        NaN         NaN   \n\n                                     categories_tags  \\\n0  en:plant-based-foods-and-beverages,en:plant-ba...   \n1  en:snacks,en:salty-snacks,en:appetizers,en:chi...   \n2                              de:abendbrotsufstrich   \n3                                                NaN   \n4                                                NaN   \n\n                                     labels_tags           countries  \\\n0                                            NaN              Canada   \n1                         en:vegetarian,en:vegan  Switzerland, World   \n2  en:organic,en:eu-organic,en:eg-oko-verordnung             Germany   \n3                                            NaN       United States   \n4                                            NaN       United States   \n\n            countries_tags origins origins_tags  \n0                en:canada     NaN          NaN  \n1  en:switzerland,en:world     NaN          NaN  \n2               en:germany     NaN          NaN  \n3         en:united-states     NaN          NaN  \n4         en:united-states     NaN          NaN  ",
      "text/html": "<div>\n<style scoped>\n    .dataframe tbody tr th:only-of-type {\n        vertical-align: middle;\n    }\n\n    .dataframe tbody tr th {\n        vertical-align: top;\n    }\n\n    .dataframe thead th {\n        text-align: right;\n    }\n</style>\n<table border=\"1\" class=\"dataframe\">\n  <thead>\n    <tr style=\"text-align: right;\">\n      <th></th>\n      <th>code</th>\n      <th>lc</th>\n      <th>product_name_en</th>\n      <th>quantity</th>\n      <th>serving_size</th>\n      <th>packaging_tags</th>\n      <th>brands</th>\n      <th>brands_tags</th>\n      <th>categories_tags</th>\n      <th>labels_tags</th>\n      <th>countries</th>\n      <th>countries_tags</th>\n      <th>origins</th>\n      <th>origins_tags</th>\n    </tr>\n  </thead>\n  <tbody>\n    <tr>\n      <th>0</th>\n      <td>0059749979702</td>\n      <td>fr</td>\n      <td>NaN</td>\n      <td>NaN</td>\n      <td>NaN</td>\n      <td>NaN</td>\n      <td>Naturalia</td>\n      <td>naturalia</td>\n      <td>en:plant-based-foods-and-beverages,en:plant-ba...</td>\n      <td>NaN</td>\n      <td>Canada</td>\n      <td>en:canada</td>\n      <td>NaN</td>\n      <td>NaN</td>\n    </tr>\n    <tr>\n      <th>1</th>\n      <td>7610095131409</td>\n      <td>en</td>\n      <td>NaN</td>\n      <td>NaN</td>\n      <td>NaN</td>\n      <td>NaN</td>\n      <td>Zweifel</td>\n      <td>zweifel</td>\n      <td>en:snacks,en:salty-snacks,en:appetizers,en:chi...</td>\n      <td>en:vegetarian,en:vegan</td>\n      <td>Switzerland, World</td>\n      <td>en:switzerland,en:world</td>\n      <td>NaN</td>\n      <td>NaN</td>\n    </tr>\n    <tr>\n      <th>2</th>\n      <td>4005514005578</td>\n      <td>en</td>\n      <td>Gelbe Linse Avocado Brotaufstrich</td>\n      <td>NaN</td>\n      <td>NaN</td>\n      <td>NaN</td>\n      <td>Tartex</td>\n      <td>tartex</td>\n      <td>de:abendbrotsufstrich</td>\n      <td>en:organic,en:eu-organic,en:eg-oko-verordnung</td>\n      <td>Germany</td>\n      <td>en:germany</td>\n      <td>NaN</td>\n      <td>NaN</td>\n    </tr>\n    <tr>\n      <th>3</th>\n      <td>0879890002513</td>\n      <td>en</td>\n      <td>Avocado toast chili lime</td>\n      <td>NaN</td>\n      <td>NaN</td>\n      <td>NaN</td>\n      <td>NaN</td>\n      <td>NaN</td>\n      <td>NaN</td>\n      <td>NaN</td>\n      <td>United States</td>\n      <td>en:united-states</td>\n      <td>NaN</td>\n      <td>NaN</td>\n    </tr>\n    <tr>\n      <th>4</th>\n      <td>0223086613685</td>\n      <td>en</td>\n      <td>Avocado</td>\n      <td>NaN</td>\n      <td>NaN</td>\n      <td>NaN</td>\n      <td>NaN</td>\n      <td>NaN</td>\n      <td>NaN</td>\n      <td>NaN</td>\n      <td>United States</td>\n      <td>en:united-states</td>\n      <td>NaN</td>\n      <td>NaN</td>\n    </tr>\n  </tbody>\n</table>\n</div>"
     },
     "execution_count": 4,
     "metadata": {},
     "output_type": "execute_result"
    }
   ],
   "execution_count": 4
  },
  {
   "cell_type": "markdown",
   "source": [
    "Gather relevant categories data for avocado"
   ],
   "metadata": {
    "collapsed": false
   },
   "id": "8ae60370ce075e71"
  },
  {
   "source": [
    "with open(\"data/relevant_avocado_categories.txt\", \"r\") as file:\n",
    "    relevant_avocado_categories = file.read().splitlines()"
   ],
   "metadata": {
    "executionCancelledAt": null,
    "executionTime": 17,
    "lastExecutedAt": 1706188571647,
    "lastScheduledRunId": null,
    "lastSuccessfullyExecutedCode": "with open(\"data/relevant_avocado_categories.txt\", \"r\") as file:\n    relevant_avocado_categories = file.read().splitlines()\n    file.close()\n    \ndf.head()",
    "ExecuteTime": {
     "end_time": "2024-01-26T12:27:20.820285464Z",
     "start_time": "2024-01-26T12:27:20.788754313Z"
    }
   },
   "cell_type": "code",
   "id": "a464501a-ff36-473e-bf7b-426b44dfb2e1",
   "outputs": [],
   "execution_count": 5
  },
  {
   "source": [
    "filter dataframe by categories_tags"
   ],
   "metadata": {},
   "cell_type": "markdown",
   "id": "1b9f405e-38d7-4bb5-9fef-c639aa68ad75"
  },
  {
   "source": [
    "# Turn a column of comma-separated tags into a column of lists\n",
    "df['categories_list'] = df['categories_tags'].str.split(',')\n",
    "\n",
    "df.head()"
   ],
   "metadata": {
    "executionCancelledAt": null,
    "executionTime": 18,
    "lastExecutedAt": 1706188551779,
    "lastScheduledRunId": null,
    "lastSuccessfullyExecutedCode": "# Turn a column of comma-separated tags into a column of lists\ndf['categories_list'] = df['categories_tags'].str.split(',')\n\ndf.head()",
    "outputsMetadata": {
     "0": {
      "height": 45,
      "type": "dataFrame"
     }
    },
    "collapsed": false,
    "ExecuteTime": {
     "end_time": "2024-01-26T12:27:20.925322620Z",
     "start_time": "2024-01-26T12:27:20.803218289Z"
    }
   },
   "cell_type": "code",
   "id": "953b68fd-44f3-4793-bab9-e32ba320a08b",
   "outputs": [
    {
     "data": {
      "text/plain": "            code  lc                    product_name_en quantity serving_size  \\\n0  0059749979702  fr                                NaN      NaN          NaN   \n1  7610095131409  en                                NaN      NaN          NaN   \n2  4005514005578  en  Gelbe Linse Avocado Brotaufstrich      NaN          NaN   \n3  0879890002513  en           Avocado toast chili lime      NaN          NaN   \n4  0223086613685  en                            Avocado      NaN          NaN   \n\n  packaging_tags     brands brands_tags  \\\n0            NaN  Naturalia   naturalia   \n1            NaN    Zweifel     zweifel   \n2            NaN     Tartex      tartex   \n3            NaN        NaN         NaN   \n4            NaN        NaN         NaN   \n\n                                     categories_tags  \\\n0  en:plant-based-foods-and-beverages,en:plant-ba...   \n1  en:snacks,en:salty-snacks,en:appetizers,en:chi...   \n2                              de:abendbrotsufstrich   \n3                                                NaN   \n4                                                NaN   \n\n                                     labels_tags           countries  \\\n0                                            NaN              Canada   \n1                         en:vegetarian,en:vegan  Switzerland, World   \n2  en:organic,en:eu-organic,en:eg-oko-verordnung             Germany   \n3                                            NaN       United States   \n4                                            NaN       United States   \n\n            countries_tags origins origins_tags  \\\n0                en:canada     NaN          NaN   \n1  en:switzerland,en:world     NaN          NaN   \n2               en:germany     NaN          NaN   \n3         en:united-states     NaN          NaN   \n4         en:united-states     NaN          NaN   \n\n                                     categories_list  \n0  [en:plant-based-foods-and-beverages, en:plant-...  \n1  [en:snacks, en:salty-snacks, en:appetizers, en...  \n2                            [de:abendbrotsufstrich]  \n3                                                NaN  \n4                                                NaN  ",
      "text/html": "<div>\n<style scoped>\n    .dataframe tbody tr th:only-of-type {\n        vertical-align: middle;\n    }\n\n    .dataframe tbody tr th {\n        vertical-align: top;\n    }\n\n    .dataframe thead th {\n        text-align: right;\n    }\n</style>\n<table border=\"1\" class=\"dataframe\">\n  <thead>\n    <tr style=\"text-align: right;\">\n      <th></th>\n      <th>code</th>\n      <th>lc</th>\n      <th>product_name_en</th>\n      <th>quantity</th>\n      <th>serving_size</th>\n      <th>packaging_tags</th>\n      <th>brands</th>\n      <th>brands_tags</th>\n      <th>categories_tags</th>\n      <th>labels_tags</th>\n      <th>countries</th>\n      <th>countries_tags</th>\n      <th>origins</th>\n      <th>origins_tags</th>\n      <th>categories_list</th>\n    </tr>\n  </thead>\n  <tbody>\n    <tr>\n      <th>0</th>\n      <td>0059749979702</td>\n      <td>fr</td>\n      <td>NaN</td>\n      <td>NaN</td>\n      <td>NaN</td>\n      <td>NaN</td>\n      <td>Naturalia</td>\n      <td>naturalia</td>\n      <td>en:plant-based-foods-and-beverages,en:plant-ba...</td>\n      <td>NaN</td>\n      <td>Canada</td>\n      <td>en:canada</td>\n      <td>NaN</td>\n      <td>NaN</td>\n      <td>[en:plant-based-foods-and-beverages, en:plant-...</td>\n    </tr>\n    <tr>\n      <th>1</th>\n      <td>7610095131409</td>\n      <td>en</td>\n      <td>NaN</td>\n      <td>NaN</td>\n      <td>NaN</td>\n      <td>NaN</td>\n      <td>Zweifel</td>\n      <td>zweifel</td>\n      <td>en:snacks,en:salty-snacks,en:appetizers,en:chi...</td>\n      <td>en:vegetarian,en:vegan</td>\n      <td>Switzerland, World</td>\n      <td>en:switzerland,en:world</td>\n      <td>NaN</td>\n      <td>NaN</td>\n      <td>[en:snacks, en:salty-snacks, en:appetizers, en...</td>\n    </tr>\n    <tr>\n      <th>2</th>\n      <td>4005514005578</td>\n      <td>en</td>\n      <td>Gelbe Linse Avocado Brotaufstrich</td>\n      <td>NaN</td>\n      <td>NaN</td>\n      <td>NaN</td>\n      <td>Tartex</td>\n      <td>tartex</td>\n      <td>de:abendbrotsufstrich</td>\n      <td>en:organic,en:eu-organic,en:eg-oko-verordnung</td>\n      <td>Germany</td>\n      <td>en:germany</td>\n      <td>NaN</td>\n      <td>NaN</td>\n      <td>[de:abendbrotsufstrich]</td>\n    </tr>\n    <tr>\n      <th>3</th>\n      <td>0879890002513</td>\n      <td>en</td>\n      <td>Avocado toast chili lime</td>\n      <td>NaN</td>\n      <td>NaN</td>\n      <td>NaN</td>\n      <td>NaN</td>\n      <td>NaN</td>\n      <td>NaN</td>\n      <td>NaN</td>\n      <td>United States</td>\n      <td>en:united-states</td>\n      <td>NaN</td>\n      <td>NaN</td>\n      <td>NaN</td>\n    </tr>\n    <tr>\n      <th>4</th>\n      <td>0223086613685</td>\n      <td>en</td>\n      <td>Avocado</td>\n      <td>NaN</td>\n      <td>NaN</td>\n      <td>NaN</td>\n      <td>NaN</td>\n      <td>NaN</td>\n      <td>NaN</td>\n      <td>NaN</td>\n      <td>United States</td>\n      <td>en:united-states</td>\n      <td>NaN</td>\n      <td>NaN</td>\n      <td>NaN</td>\n    </tr>\n  </tbody>\n</table>\n</div>"
     },
     "execution_count": 6,
     "metadata": {},
     "output_type": "execute_result"
    }
   ],
   "execution_count": 6
  },
  {
   "source": [
    "#drop na values in categories_list\n",
    "df = df.dropna(subset=['categories_list'])"
   ],
   "metadata": {
    "executionCancelledAt": null,
    "executionTime": 19,
    "lastExecutedAt": 1706188516574,
    "lastScheduledRunId": null,
    "lastSuccessfullyExecutedCode": "df.head()",
    "ExecuteTime": {
     "end_time": "2024-01-26T12:27:20.926294564Z",
     "start_time": "2024-01-26T12:27:20.833509990Z"
    }
   },
   "cell_type": "code",
   "id": "cc7b4665-1999-4957-a5fa-2e296521e821",
   "outputs": [],
   "execution_count": 7
  },
  {
   "cell_type": "code",
   "outputs": [],
   "source": [
    "df = df[df['categories_list'].apply(lambda x: any([i for i in x if i in relevant_avocado_categories]))]"
   ],
   "metadata": {
    "collapsed": false,
    "ExecuteTime": {
     "end_time": "2024-01-26T12:27:20.927221501Z",
     "start_time": "2024-01-26T12:27:20.833837101Z"
    }
   },
   "id": "764ae0a9b6385e94",
   "execution_count": 8
  },
  {
   "cell_type": "code",
   "outputs": [
    {
     "data": {
      "text/plain": "             code  lc product_name_en  quantity serving_size packaging_tags  \\\n5   3662994002063  fr             NaN  3 fruits          NaN            NaN   \n6   8437013031011  fr             NaN      1 kg          NaN            NaN   \n14  4016249238155  de             NaN      135g         100g    de:gläschen   \n17  8718963381532  de             NaN       NaN          NaN            NaN   \n23  8436002746707  es             NaN       NaN          NaN            NaN   \n\n                          brands                   brands_tags  \\\n5   la compagnie des fruits mûrs  la-compagnie-des-fruits-murs   \n6                            NaN                           NaN   \n14                         Allos                         allos   \n17                           NaN                           NaN   \n23                           NaN                           NaN   \n\n                                      categories_tags  \\\n5   en:plant-based-foods-and-beverages,en:plant-ba...   \n6   en:plant-based-foods-and-beverages,en:plant-ba...   \n14  en:plant-based-foods-and-beverages,en:plant-ba...   \n17  en:plant-based-foods-and-beverages,en:plant-ba...   \n23  en:plant-based-foods-and-beverages,en:plant-ba...   \n\n                                          labels_tags    countries  \\\n5                                                 NaN       France   \n6                                                 NaN       France   \n14  en:organic,en:vegetarian,en:eu-organic,en:no-g...  Deutschland   \n17                                                NaN  Deutschland   \n23                                                NaN       España   \n\n   countries_tags            origins       origins_tags  \\\n5       en:france                NaN                NaN   \n6       en:france                NaN                NaN   \n14     en:germany  Europäische Union  en:european-union   \n17     en:germany                NaN                NaN   \n23       en:spain                NaN                NaN   \n\n                                      categories_list  \n5   [en:plant-based-foods-and-beverages, en:plant-...  \n6   [en:plant-based-foods-and-beverages, en:plant-...  \n14  [en:plant-based-foods-and-beverages, en:plant-...  \n17  [en:plant-based-foods-and-beverages, en:plant-...  \n23  [en:plant-based-foods-and-beverages, en:plant-...  ",
      "text/html": "<div>\n<style scoped>\n    .dataframe tbody tr th:only-of-type {\n        vertical-align: middle;\n    }\n\n    .dataframe tbody tr th {\n        vertical-align: top;\n    }\n\n    .dataframe thead th {\n        text-align: right;\n    }\n</style>\n<table border=\"1\" class=\"dataframe\">\n  <thead>\n    <tr style=\"text-align: right;\">\n      <th></th>\n      <th>code</th>\n      <th>lc</th>\n      <th>product_name_en</th>\n      <th>quantity</th>\n      <th>serving_size</th>\n      <th>packaging_tags</th>\n      <th>brands</th>\n      <th>brands_tags</th>\n      <th>categories_tags</th>\n      <th>labels_tags</th>\n      <th>countries</th>\n      <th>countries_tags</th>\n      <th>origins</th>\n      <th>origins_tags</th>\n      <th>categories_list</th>\n    </tr>\n  </thead>\n  <tbody>\n    <tr>\n      <th>5</th>\n      <td>3662994002063</td>\n      <td>fr</td>\n      <td>NaN</td>\n      <td>3 fruits</td>\n      <td>NaN</td>\n      <td>NaN</td>\n      <td>la compagnie des fruits mûrs</td>\n      <td>la-compagnie-des-fruits-murs</td>\n      <td>en:plant-based-foods-and-beverages,en:plant-ba...</td>\n      <td>NaN</td>\n      <td>France</td>\n      <td>en:france</td>\n      <td>NaN</td>\n      <td>NaN</td>\n      <td>[en:plant-based-foods-and-beverages, en:plant-...</td>\n    </tr>\n    <tr>\n      <th>6</th>\n      <td>8437013031011</td>\n      <td>fr</td>\n      <td>NaN</td>\n      <td>1 kg</td>\n      <td>NaN</td>\n      <td>NaN</td>\n      <td>NaN</td>\n      <td>NaN</td>\n      <td>en:plant-based-foods-and-beverages,en:plant-ba...</td>\n      <td>NaN</td>\n      <td>France</td>\n      <td>en:france</td>\n      <td>NaN</td>\n      <td>NaN</td>\n      <td>[en:plant-based-foods-and-beverages, en:plant-...</td>\n    </tr>\n    <tr>\n      <th>14</th>\n      <td>4016249238155</td>\n      <td>de</td>\n      <td>NaN</td>\n      <td>135g</td>\n      <td>100g</td>\n      <td>de:gläschen</td>\n      <td>Allos</td>\n      <td>allos</td>\n      <td>en:plant-based-foods-and-beverages,en:plant-ba...</td>\n      <td>en:organic,en:vegetarian,en:eu-organic,en:no-g...</td>\n      <td>Deutschland</td>\n      <td>en:germany</td>\n      <td>Europäische Union</td>\n      <td>en:european-union</td>\n      <td>[en:plant-based-foods-and-beverages, en:plant-...</td>\n    </tr>\n    <tr>\n      <th>17</th>\n      <td>8718963381532</td>\n      <td>de</td>\n      <td>NaN</td>\n      <td>NaN</td>\n      <td>NaN</td>\n      <td>NaN</td>\n      <td>NaN</td>\n      <td>NaN</td>\n      <td>en:plant-based-foods-and-beverages,en:plant-ba...</td>\n      <td>NaN</td>\n      <td>Deutschland</td>\n      <td>en:germany</td>\n      <td>NaN</td>\n      <td>NaN</td>\n      <td>[en:plant-based-foods-and-beverages, en:plant-...</td>\n    </tr>\n    <tr>\n      <th>23</th>\n      <td>8436002746707</td>\n      <td>es</td>\n      <td>NaN</td>\n      <td>NaN</td>\n      <td>NaN</td>\n      <td>NaN</td>\n      <td>NaN</td>\n      <td>NaN</td>\n      <td>en:plant-based-foods-and-beverages,en:plant-ba...</td>\n      <td>NaN</td>\n      <td>España</td>\n      <td>en:spain</td>\n      <td>NaN</td>\n      <td>NaN</td>\n      <td>[en:plant-based-foods-and-beverages, en:plant-...</td>\n    </tr>\n  </tbody>\n</table>\n</div>"
     },
     "execution_count": 9,
     "metadata": {},
     "output_type": "execute_result"
    }
   ],
   "source": [
    "df.head()"
   ],
   "metadata": {
    "collapsed": false,
    "ExecuteTime": {
     "end_time": "2024-01-26T12:27:20.928648572Z",
     "start_time": "2024-01-26T12:27:20.834181645Z"
    }
   },
   "id": "151e344925425b5e",
   "execution_count": 9
  },
  {
   "cell_type": "markdown",
   "source": [
    "filter data based on country UK"
   ],
   "metadata": {
    "collapsed": false
   },
   "id": "7bfa31dfc9a38453"
  },
  {
   "cell_type": "code",
   "outputs": [
    {
     "data": {
      "text/plain": "               code  lc               product_name_en   quantity serving_size  \\\n361        00985833  en                       Avacado      650 g          NaN   \n381        00040464  en                       Avocado        NaN          NaN   \n414   4088600100173  en                       Avocado      100 g          NaN   \n468        01307351  en              Avacados organic        NaN          NaN   \n508   5057172125395  en      Just Essentials Avocados      4pack          NaN   \n510        23066755  en         Ready to Eat Avocados          2          NaN   \n708        03201985  en                       Avocado          2          80g   \n781        10096369  en                       Avocado        NaN        100 g   \n850        00184915  en        Rich & creamy avocados        NaN          NaN   \n1190       01600322  en  Ripe & ready medium avocados          2          NaN   \n1301  5000128606387  en                      Avocados        NaN          NaN   \n1413  2322725400995  en                      Avocados        NaN          NaN   \n1771  5010251741985  en           Extra large avocado  1 avocado          NaN   \n\n                               packaging_tags                  brands  \\\n361                                       NaN         Marks & Spencer   \n381                                       NaN                     NaN   \n414                  en:mixed-plastic-unknown                    Aldi   \n468                  en:card-tray,en:ldpe-bag  Sainsbury’s SO organic   \n508   en:mixed-plastic-film-packet-to-recycle                    Asda   \n510                      en:mixed-plastic-bag                    Asda   \n708   en:mixed-plastic-packet,en:plastic-film                   Tesco   \n781                                       NaN                   Tesco   \n850      en:card-tray,en:mixed-plastic-sleeve          By Sainsbury's   \n1190                 en:card-tray,en:ldpe-bag             Sainsbury's   \n1301             en:mixed-plastic-film-packet                   Co op   \n1413                              en:ldpe-bag               Morrisons   \n1771                                      NaN               Morrisons   \n\n                 brands_tags  \\\n361            marks-spencer   \n381                      NaN   \n414                     aldi   \n468   sainsbury-s-so-organic   \n508                     asda   \n510                     asda   \n708                    tesco   \n781                    tesco   \n850           by-sainsbury-s   \n1190             sainsbury-s   \n1301                   co-op   \n1413               morrisons   \n1771               morrisons   \n\n                                        categories_tags  \\\n361   en:plant-based-foods-and-beverages,en:plant-ba...   \n381   en:plant-based-foods-and-beverages,en:plant-ba...   \n414   en:plant-based-foods-and-beverages,en:plant-ba...   \n468   en:plant-based-foods-and-beverages,en:plant-ba...   \n508   en:plant-based-foods-and-beverages,en:plant-ba...   \n510   en:plant-based-foods-and-beverages,en:plant-ba...   \n708   en:plant-based-foods-and-beverages,en:plant-ba...   \n781   en:plant-based-foods-and-beverages,en:plant-ba...   \n850   en:plant-based-foods-and-beverages,en:plant-ba...   \n1190  en:plant-based-foods-and-beverages,en:plant-ba...   \n1301  en:plant-based-foods-and-beverages,en:plant-ba...   \n1413  en:plant-based-foods-and-beverages,en:plant-ba...   \n1771  en:plant-based-foods-and-beverages,en:plant-ba...   \n\n                                            labels_tags       countries  \\\n361                                                 NaN  United Kingdom   \n381                                                 NaN  United Kingdom   \n414                                                 NaN  United Kingdom   \n468   en:organic,en:eu-organic,en:non-eu-agriculture...  United Kingdom   \n508                       en:class-i,en:contains-stones  United Kingdom   \n510                                                 NaN  United Kingdom   \n708                en:tesco-nurture,en:vitamin-e-source  United Kingdom   \n781                                                 NaN  United Kingdom   \n850                                                 NaN  United Kingdom   \n1190                                         en:class-i  United Kingdom   \n1301                                                NaN  United Kingdom   \n1413                                                NaN  United Kingdom   \n1771                                                NaN  United Kingdom   \n\n         countries_tags      origins      origins_tags  \\\n361   en:united-kingdom         Peru           en:peru   \n381   en:united-kingdom          NaN               NaN   \n414   en:united-kingdom          NaN               NaN   \n468   en:united-kingdom          NaN               NaN   \n508   en:united-kingdom         Peru           en:peru   \n510   en:united-kingdom  Spain, Peru  en:spain,en:peru   \n708   en:united-kingdom  Chile, Peru  en:chile,en:peru   \n781   en:united-kingdom          NaN               NaN   \n850   en:united-kingdom          NaN               NaN   \n1190  en:united-kingdom       Israel         en:israel   \n1301  en:united-kingdom          NaN               NaN   \n1413  en:united-kingdom          NaN               NaN   \n1771  en:united-kingdom          NaN               NaN   \n\n                                        categories_list  \n361   [en:plant-based-foods-and-beverages, en:plant-...  \n381   [en:plant-based-foods-and-beverages, en:plant-...  \n414   [en:plant-based-foods-and-beverages, en:plant-...  \n468   [en:plant-based-foods-and-beverages, en:plant-...  \n508   [en:plant-based-foods-and-beverages, en:plant-...  \n510   [en:plant-based-foods-and-beverages, en:plant-...  \n708   [en:plant-based-foods-and-beverages, en:plant-...  \n781   [en:plant-based-foods-and-beverages, en:plant-...  \n850   [en:plant-based-foods-and-beverages, en:plant-...  \n1190  [en:plant-based-foods-and-beverages, en:plant-...  \n1301  [en:plant-based-foods-and-beverages, en:plant-...  \n1413  [en:plant-based-foods-and-beverages, en:plant-...  \n1771  [en:plant-based-foods-and-beverages, en:plant-...  ",
      "text/html": "<div>\n<style scoped>\n    .dataframe tbody tr th:only-of-type {\n        vertical-align: middle;\n    }\n\n    .dataframe tbody tr th {\n        vertical-align: top;\n    }\n\n    .dataframe thead th {\n        text-align: right;\n    }\n</style>\n<table border=\"1\" class=\"dataframe\">\n  <thead>\n    <tr style=\"text-align: right;\">\n      <th></th>\n      <th>code</th>\n      <th>lc</th>\n      <th>product_name_en</th>\n      <th>quantity</th>\n      <th>serving_size</th>\n      <th>packaging_tags</th>\n      <th>brands</th>\n      <th>brands_tags</th>\n      <th>categories_tags</th>\n      <th>labels_tags</th>\n      <th>countries</th>\n      <th>countries_tags</th>\n      <th>origins</th>\n      <th>origins_tags</th>\n      <th>categories_list</th>\n    </tr>\n  </thead>\n  <tbody>\n    <tr>\n      <th>361</th>\n      <td>00985833</td>\n      <td>en</td>\n      <td>Avacado</td>\n      <td>650 g</td>\n      <td>NaN</td>\n      <td>NaN</td>\n      <td>Marks &amp; Spencer</td>\n      <td>marks-spencer</td>\n      <td>en:plant-based-foods-and-beverages,en:plant-ba...</td>\n      <td>NaN</td>\n      <td>United Kingdom</td>\n      <td>en:united-kingdom</td>\n      <td>Peru</td>\n      <td>en:peru</td>\n      <td>[en:plant-based-foods-and-beverages, en:plant-...</td>\n    </tr>\n    <tr>\n      <th>381</th>\n      <td>00040464</td>\n      <td>en</td>\n      <td>Avocado</td>\n      <td>NaN</td>\n      <td>NaN</td>\n      <td>NaN</td>\n      <td>NaN</td>\n      <td>NaN</td>\n      <td>en:plant-based-foods-and-beverages,en:plant-ba...</td>\n      <td>NaN</td>\n      <td>United Kingdom</td>\n      <td>en:united-kingdom</td>\n      <td>NaN</td>\n      <td>NaN</td>\n      <td>[en:plant-based-foods-and-beverages, en:plant-...</td>\n    </tr>\n    <tr>\n      <th>414</th>\n      <td>4088600100173</td>\n      <td>en</td>\n      <td>Avocado</td>\n      <td>100 g</td>\n      <td>NaN</td>\n      <td>en:mixed-plastic-unknown</td>\n      <td>Aldi</td>\n      <td>aldi</td>\n      <td>en:plant-based-foods-and-beverages,en:plant-ba...</td>\n      <td>NaN</td>\n      <td>United Kingdom</td>\n      <td>en:united-kingdom</td>\n      <td>NaN</td>\n      <td>NaN</td>\n      <td>[en:plant-based-foods-and-beverages, en:plant-...</td>\n    </tr>\n    <tr>\n      <th>468</th>\n      <td>01307351</td>\n      <td>en</td>\n      <td>Avacados organic</td>\n      <td>NaN</td>\n      <td>NaN</td>\n      <td>en:card-tray,en:ldpe-bag</td>\n      <td>Sainsbury’s SO organic</td>\n      <td>sainsbury-s-so-organic</td>\n      <td>en:plant-based-foods-and-beverages,en:plant-ba...</td>\n      <td>en:organic,en:eu-organic,en:non-eu-agriculture...</td>\n      <td>United Kingdom</td>\n      <td>en:united-kingdom</td>\n      <td>NaN</td>\n      <td>NaN</td>\n      <td>[en:plant-based-foods-and-beverages, en:plant-...</td>\n    </tr>\n    <tr>\n      <th>508</th>\n      <td>5057172125395</td>\n      <td>en</td>\n      <td>Just Essentials Avocados</td>\n      <td>4pack</td>\n      <td>NaN</td>\n      <td>en:mixed-plastic-film-packet-to-recycle</td>\n      <td>Asda</td>\n      <td>asda</td>\n      <td>en:plant-based-foods-and-beverages,en:plant-ba...</td>\n      <td>en:class-i,en:contains-stones</td>\n      <td>United Kingdom</td>\n      <td>en:united-kingdom</td>\n      <td>Peru</td>\n      <td>en:peru</td>\n      <td>[en:plant-based-foods-and-beverages, en:plant-...</td>\n    </tr>\n    <tr>\n      <th>510</th>\n      <td>23066755</td>\n      <td>en</td>\n      <td>Ready to Eat Avocados</td>\n      <td>2</td>\n      <td>NaN</td>\n      <td>en:mixed-plastic-bag</td>\n      <td>Asda</td>\n      <td>asda</td>\n      <td>en:plant-based-foods-and-beverages,en:plant-ba...</td>\n      <td>NaN</td>\n      <td>United Kingdom</td>\n      <td>en:united-kingdom</td>\n      <td>Spain, Peru</td>\n      <td>en:spain,en:peru</td>\n      <td>[en:plant-based-foods-and-beverages, en:plant-...</td>\n    </tr>\n    <tr>\n      <th>708</th>\n      <td>03201985</td>\n      <td>en</td>\n      <td>Avocado</td>\n      <td>2</td>\n      <td>80g</td>\n      <td>en:mixed-plastic-packet,en:plastic-film</td>\n      <td>Tesco</td>\n      <td>tesco</td>\n      <td>en:plant-based-foods-and-beverages,en:plant-ba...</td>\n      <td>en:tesco-nurture,en:vitamin-e-source</td>\n      <td>United Kingdom</td>\n      <td>en:united-kingdom</td>\n      <td>Chile, Peru</td>\n      <td>en:chile,en:peru</td>\n      <td>[en:plant-based-foods-and-beverages, en:plant-...</td>\n    </tr>\n    <tr>\n      <th>781</th>\n      <td>10096369</td>\n      <td>en</td>\n      <td>Avocado</td>\n      <td>NaN</td>\n      <td>100 g</td>\n      <td>NaN</td>\n      <td>Tesco</td>\n      <td>tesco</td>\n      <td>en:plant-based-foods-and-beverages,en:plant-ba...</td>\n      <td>NaN</td>\n      <td>United Kingdom</td>\n      <td>en:united-kingdom</td>\n      <td>NaN</td>\n      <td>NaN</td>\n      <td>[en:plant-based-foods-and-beverages, en:plant-...</td>\n    </tr>\n    <tr>\n      <th>850</th>\n      <td>00184915</td>\n      <td>en</td>\n      <td>Rich &amp; creamy avocados</td>\n      <td>NaN</td>\n      <td>NaN</td>\n      <td>en:card-tray,en:mixed-plastic-sleeve</td>\n      <td>By Sainsbury's</td>\n      <td>by-sainsbury-s</td>\n      <td>en:plant-based-foods-and-beverages,en:plant-ba...</td>\n      <td>NaN</td>\n      <td>United Kingdom</td>\n      <td>en:united-kingdom</td>\n      <td>NaN</td>\n      <td>NaN</td>\n      <td>[en:plant-based-foods-and-beverages, en:plant-...</td>\n    </tr>\n    <tr>\n      <th>1190</th>\n      <td>01600322</td>\n      <td>en</td>\n      <td>Ripe &amp; ready medium avocados</td>\n      <td>2</td>\n      <td>NaN</td>\n      <td>en:card-tray,en:ldpe-bag</td>\n      <td>Sainsbury's</td>\n      <td>sainsbury-s</td>\n      <td>en:plant-based-foods-and-beverages,en:plant-ba...</td>\n      <td>en:class-i</td>\n      <td>United Kingdom</td>\n      <td>en:united-kingdom</td>\n      <td>Israel</td>\n      <td>en:israel</td>\n      <td>[en:plant-based-foods-and-beverages, en:plant-...</td>\n    </tr>\n    <tr>\n      <th>1301</th>\n      <td>5000128606387</td>\n      <td>en</td>\n      <td>Avocados</td>\n      <td>NaN</td>\n      <td>NaN</td>\n      <td>en:mixed-plastic-film-packet</td>\n      <td>Co op</td>\n      <td>co-op</td>\n      <td>en:plant-based-foods-and-beverages,en:plant-ba...</td>\n      <td>NaN</td>\n      <td>United Kingdom</td>\n      <td>en:united-kingdom</td>\n      <td>NaN</td>\n      <td>NaN</td>\n      <td>[en:plant-based-foods-and-beverages, en:plant-...</td>\n    </tr>\n    <tr>\n      <th>1413</th>\n      <td>2322725400995</td>\n      <td>en</td>\n      <td>Avocados</td>\n      <td>NaN</td>\n      <td>NaN</td>\n      <td>en:ldpe-bag</td>\n      <td>Morrisons</td>\n      <td>morrisons</td>\n      <td>en:plant-based-foods-and-beverages,en:plant-ba...</td>\n      <td>NaN</td>\n      <td>United Kingdom</td>\n      <td>en:united-kingdom</td>\n      <td>NaN</td>\n      <td>NaN</td>\n      <td>[en:plant-based-foods-and-beverages, en:plant-...</td>\n    </tr>\n    <tr>\n      <th>1771</th>\n      <td>5010251741985</td>\n      <td>en</td>\n      <td>Extra large avocado</td>\n      <td>1 avocado</td>\n      <td>NaN</td>\n      <td>NaN</td>\n      <td>Morrisons</td>\n      <td>morrisons</td>\n      <td>en:plant-based-foods-and-beverages,en:plant-ba...</td>\n      <td>NaN</td>\n      <td>United Kingdom</td>\n      <td>en:united-kingdom</td>\n      <td>NaN</td>\n      <td>NaN</td>\n      <td>[en:plant-based-foods-and-beverages, en:plant-...</td>\n    </tr>\n  </tbody>\n</table>\n</div>"
     },
     "execution_count": 10,
     "metadata": {},
     "output_type": "execute_result"
    }
   ],
   "source": [
    "df_uk = df[(df['countries']=='United Kingdom')]\n",
    "df_uk"
   ],
   "metadata": {
    "collapsed": false,
    "ExecuteTime": {
     "end_time": "2024-01-26T12:27:20.973348181Z",
     "start_time": "2024-01-26T12:27:20.850249683Z"
    }
   },
   "id": "3416af7aa8a6683",
   "execution_count": 10
  },
  {
   "cell_type": "markdown",
   "source": [
    "find the most common cities "
   ],
   "metadata": {
    "collapsed": false
   },
   "id": "9656c6e54cc099ae"
  },
  {
   "cell_type": "code",
   "outputs": [
    {
     "data": {
      "text/plain": "'peru'"
     },
     "execution_count": 11,
     "metadata": {},
     "output_type": "execute_result"
    }
   ],
   "source": [
    "common_city_uk = (df_uk['origins_tags'].value_counts().index[0]).lstrip('en:')\n",
    "common_city_uk"
   ],
   "metadata": {
    "collapsed": false,
    "ExecuteTime": {
     "end_time": "2024-01-26T12:27:20.974501735Z",
     "start_time": "2024-01-26T12:27:20.856921366Z"
    }
   },
   "id": "5711bdc6c78bd71c",
   "execution_count": 11
  },
  {
   "cell_type": "markdown",
   "source": [
    "Most common city in UK is Peru"
   ],
   "metadata": {
    "collapsed": false
   },
   "id": "ddbe5934e8836641"
  },
  {
   "cell_type": "markdown",
   "source": [
    "Create a user-defined function to call for each ingredient"
   ],
   "metadata": {
    "collapsed": false
   },
   "id": "b5e86173ff3584d4"
  },
  {
   "cell_type": "code",
   "outputs": [],
   "source": [
    "def read_and_filter_data(filename, relevant_categories):\n",
    "\n",
    "    df = pd.read_csv(f'data/{filename}', sep='\\t', low_memory=False)\n",
    "\n",
    "    # Subset large DataFrame to include only relevant columns\n",
    "    subset_columns = [ 'code', 'lc', 'product_name_en', 'quantity', 'serving_size', 'packaging_tags', 'brands', 'brands_tags', 'categories_tags', 'labels_tags', 'countries', 'countries_tags', 'origins','origins_tags']\n",
    "    df = df[subset_columns]\n",
    "\n",
    "    # Split tags into lists\n",
    "    df['categories_list'] = df['categories_tags'].str.split(',')\n",
    "\n",
    "    # Drop rows with null categories data\n",
    "    df = df.dropna(subset=['categories_list'])\n",
    "\n",
    "    # Filter data for relevant categories\n",
    "    df = df.dropna(subset=['categories_list'])\n",
    "\n",
    "\n",
    "    df = df[df['categories_list'].apply(lambda x: any([i for i in x if i in relevant_categories]))]\n",
    "    # Filter data for the UK\n",
    "    df_uk = df[(df['countries']=='United Kingdom')]\n",
    "    # Find top origin country string with the highest count\n",
    "    top_origin_string = (df_uk['origins_tags'].value_counts().index[0])\n",
    "\n",
    "    # Clean up top origin country string\n",
    "    top_origin_country = top_origin_string.lstrip(\"en:\")\n",
    "    top_origin_country = top_origin_country.replace('-', ' ')\n",
    "\n",
    "    print(f'**{filename[:-4]} origins**\\n\\t top_origin_country \\n')\n",
    "\n",
    "    print(f\"Top origin country: {top_origin_country}\")\n",
    "\n",
    "    return top_origin_country"
   ],
   "metadata": {
    "collapsed": false,
    "ExecuteTime": {
     "end_time": "2024-01-26T12:27:21.003912334Z",
     "start_time": "2024-01-26T12:27:20.864648463Z"
    }
   },
   "id": "a870344248779624",
   "execution_count": 12
  },
  {
   "cell_type": "markdown",
   "source": [
    "Analyze avocado origins again, this time by calling function"
   ],
   "metadata": {
    "collapsed": false
   },
   "id": "f10dbbd1f80c0134"
  },
  {
   "cell_type": "code",
   "outputs": [
    {
     "name": "stdout",
     "output_type": "stream",
     "text": [
      "**avocado origins**\n",
      "\t top_origin_country \n",
      "\n",
      "Top origin country: peru\n"
     ]
    }
   ],
   "source": [
    "top_avocado_origin = read_and_filter_data('avocado.csv', relevant_avocado_categories)"
   ],
   "metadata": {
    "collapsed": false,
    "ExecuteTime": {
     "end_time": "2024-01-26T12:27:21.025524051Z",
     "start_time": "2024-01-26T12:27:20.868651812Z"
    }
   },
   "id": "aa3882f0d7d7e79e",
   "execution_count": 13
  },
  {
   "cell_type": "markdown",
   "source": [
    "let's check the function on another dataset"
   ],
   "metadata": {
    "collapsed": false
   },
   "id": "c44f00d3362208a1"
  },
  {
   "cell_type": "code",
   "outputs": [],
   "source": [
    "with open('data/relevant_olive_oil_categories.txt', 'r') as f:\n",
    "    relevant_olive_categories = f.read().splitlines()"
   ],
   "metadata": {
    "collapsed": false,
    "ExecuteTime": {
     "end_time": "2024-01-26T12:27:21.097906294Z",
     "start_time": "2024-01-26T12:27:20.931510630Z"
    }
   },
   "id": "8e84de572094f83a",
   "execution_count": 14
  },
  {
   "cell_type": "code",
   "outputs": [
    {
     "name": "stdout",
     "output_type": "stream",
     "text": [
      "**olive_oil origins**\n",
      "\t top_origin_country \n",
      "\n",
      "Top origin country: greece\n"
     ]
    }
   ],
   "source": [
    "top_olive_oil_origin = read_and_filter_data('olive_oil.csv', relevant_olive_categories)"
   ],
   "metadata": {
    "collapsed": false,
    "ExecuteTime": {
     "end_time": "2024-01-26T12:27:21.367003967Z",
     "start_time": "2024-01-26T12:27:20.972312754Z"
    }
   },
   "id": "251625b9501c7037",
   "execution_count": 15
  },
  {
   "cell_type": "markdown",
   "source": [
    "top region of olive oil is Greece"
   ],
   "metadata": {
    "collapsed": false
   },
   "id": "ac9d76285a3a7af5"
  },
  {
   "cell_type": "code",
   "outputs": [],
   "source": [
    "with open('data/relevant_sourdough_categories.txt', 'r') as f:\n",
    "    relevant_sourdough_categories = f.read().splitlines()"
   ],
   "metadata": {
    "collapsed": false,
    "ExecuteTime": {
     "end_time": "2024-01-26T12:27:21.367948758Z",
     "start_time": "2024-01-26T12:27:21.355538122Z"
    }
   },
   "id": "e0c67404cc6fd584",
   "execution_count": 16
  },
  {
   "cell_type": "code",
   "outputs": [
    {
     "name": "stdout",
     "output_type": "stream",
     "text": [
      "**sourdough origins**\n",
      "\t top_origin_country \n",
      "\n",
      "Top origin country: united kingdom\n"
     ]
    }
   ],
   "source": [
    "top_sourdough_origin = read_and_filter_data('sourdough.csv', relevant_sourdough_categories)"
   ],
   "metadata": {
    "collapsed": false,
    "ExecuteTime": {
     "end_time": "2024-01-26T12:27:21.453051274Z",
     "start_time": "2024-01-26T12:27:21.359831706Z"
    }
   },
   "id": "d976eb8f2a81e1d9",
   "execution_count": 17
  },
  {
   "cell_type": "markdown",
   "source": [
    "Top region of sourdough is United Kingdom "
   ],
   "metadata": {
    "collapsed": false
   },
   "id": "631b491df605f9ed"
  }
 ],
 "metadata": {
  "colab": {
   "name": "Welcome to DataCamp Workspaces.ipynb",
   "provenance": []
  },
  "kernelspec": {
   "display_name": "Python 3 (ipykernel)",
   "language": "python",
   "name": "python3"
  },
  "language_info": {
   "codemirror_mode": {
    "name": "ipython",
    "version": 3
   },
   "file_extension": ".py",
   "mimetype": "text/x-python",
   "name": "python",
   "nbconvert_exporter": "python",
   "pygments_lexer": "ipython3",
   "version": "3.8.10"
  }
 },
 "nbformat": 4,
 "nbformat_minor": 5
}
